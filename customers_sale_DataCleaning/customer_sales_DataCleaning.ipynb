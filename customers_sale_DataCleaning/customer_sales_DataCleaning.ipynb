{
 "cells": [
  {
   "cell_type": "code",
   "execution_count": 2,
   "id": "9c285fa7-a28c-4f61-8b01-bd6f1886344a",
   "metadata": {},
   "outputs": [],
   "source": [
    "import pandas as pd"
   ]
  },
  {
   "cell_type": "code",
   "execution_count": 3,
   "id": "a385c8ad-95a7-46a9-9b07-3938b4819b29",
   "metadata": {},
   "outputs": [
    {
     "data": {
      "text/html": [
       "<div>\n",
       "<style scoped>\n",
       "    .dataframe tbody tr th:only-of-type {\n",
       "        vertical-align: middle;\n",
       "    }\n",
       "\n",
       "    .dataframe tbody tr th {\n",
       "        vertical-align: top;\n",
       "    }\n",
       "\n",
       "    .dataframe thead th {\n",
       "        text-align: right;\n",
       "    }\n",
       "</style>\n",
       "<table border=\"1\" class=\"dataframe\">\n",
       "  <thead>\n",
       "    <tr style=\"text-align: right;\">\n",
       "      <th></th>\n",
       "      <th>Customer_ID</th>\n",
       "      <th>Name</th>\n",
       "      <th>Age</th>\n",
       "      <th>Gender</th>\n",
       "      <th>Total_Sales</th>\n",
       "      <th>Signup_Date</th>\n",
       "    </tr>\n",
       "  </thead>\n",
       "  <tbody>\n",
       "    <tr>\n",
       "      <th>0</th>\n",
       "      <td>101</td>\n",
       "      <td>Alice</td>\n",
       "      <td>25.0</td>\n",
       "      <td>F</td>\n",
       "      <td>100.0</td>\n",
       "      <td>2022-01-15</td>\n",
       "    </tr>\n",
       "    <tr>\n",
       "      <th>1</th>\n",
       "      <td>102</td>\n",
       "      <td>Bob</td>\n",
       "      <td>30.0</td>\n",
       "      <td>M</td>\n",
       "      <td>150.0</td>\n",
       "      <td>15/02/2022</td>\n",
       "    </tr>\n",
       "    <tr>\n",
       "      <th>2</th>\n",
       "      <td>103</td>\n",
       "      <td>Charlie</td>\n",
       "      <td>35.0</td>\n",
       "      <td>M</td>\n",
       "      <td>200.0</td>\n",
       "      <td>2022/03/10</td>\n",
       "    </tr>\n",
       "    <tr>\n",
       "      <th>3</th>\n",
       "      <td>104</td>\n",
       "      <td>David</td>\n",
       "      <td>40.0</td>\n",
       "      <td>M</td>\n",
       "      <td>250.0</td>\n",
       "      <td>2022-04-05</td>\n",
       "    </tr>\n",
       "    <tr>\n",
       "      <th>4</th>\n",
       "      <td>105</td>\n",
       "      <td>NaN</td>\n",
       "      <td>NaN</td>\n",
       "      <td>F</td>\n",
       "      <td>300.0</td>\n",
       "      <td>2022-05-20</td>\n",
       "    </tr>\n",
       "  </tbody>\n",
       "</table>\n",
       "</div>"
      ],
      "text/plain": [
       "   Customer_ID     Name   Age Gender  Total_Sales Signup_Date\n",
       "0          101    Alice  25.0      F        100.0  2022-01-15\n",
       "1          102      Bob  30.0      M        150.0  15/02/2022\n",
       "2          103  Charlie  35.0      M        200.0  2022/03/10\n",
       "3          104    David  40.0      M        250.0  2022-04-05\n",
       "4          105      NaN   NaN      F        300.0  2022-05-20"
      ]
     },
     "execution_count": 3,
     "metadata": {},
     "output_type": "execute_result"
    }
   ],
   "source": [
    "df = pd.read_csv(\"messy_customer_sales.csv\")\n",
    "df.head()"
   ]
  },
  {
   "cell_type": "code",
   "execution_count": 4,
   "id": "1fc69168-6ecf-4bdf-8688-d6b6276fe5d0",
   "metadata": {},
   "outputs": [
    {
     "name": "stdout",
     "output_type": "stream",
     "text": [
      "Customer_ID    0\n",
      "Name           1\n",
      "Age            1\n",
      "Gender         0\n",
      "Total_Sales    1\n",
      "Signup_Date    1\n",
      "dtype: int64\n"
     ]
    }
   ],
   "source": [
    "print(df.isnull().sum())"
   ]
  },
  {
   "cell_type": "markdown",
   "id": "e09e794a-2f61-430a-ba96-7205a0a0052c",
   "metadata": {},
   "source": [
    "**Fix Columns**"
   ]
  },
  {
   "cell_type": "code",
   "execution_count": 16,
   "id": "70495305-bb6f-47ba-9c1d-0a4274b059f0",
   "metadata": {},
   "outputs": [],
   "source": [
    "df[\"Signup_Date\"] = pd.to_datetime(df[\"Signup_Date\"], errors=\"coerce\")"
   ]
  },
  {
   "cell_type": "code",
   "execution_count": 17,
   "id": "f2499630-8c3e-4f8b-a477-9a5f7f8649dd",
   "metadata": {},
   "outputs": [
    {
     "name": "stdout",
     "output_type": "stream",
     "text": [
      "0    2022-01-15\n",
      "1           NaT\n",
      "2           NaT\n",
      "3    2022-04-05\n",
      "5           NaT\n",
      "6           NaT\n",
      "7    2022-08-30\n",
      "9    2022-10-10\n",
      "10          NaT\n",
      "Name: Signup_Date, dtype: datetime64[ns]\n"
     ]
    }
   ],
   "source": [
    "print(df[\"Signup_Date\"])"
   ]
  },
  {
   "cell_type": "code",
   "execution_count": 18,
   "id": "c9da12bc-b10d-43fa-9d22-a1917f0f2bb7",
   "metadata": {},
   "outputs": [],
   "source": [
    "df[\"Gender\"] = df[\"Gender\"].str.lower().map({\"m\":\"male\", \"male\":\"male\", \"f\":\"female\", \"female\":\"female\", \"Male\": \"M\", \"Female\": \"F\", \"Other\": \"O\"})"
   ]
  },
  {
   "cell_type": "code",
   "execution_count": 19,
   "id": "075f8633-e507-4b09-b191-c0ab9dc1dbaf",
   "metadata": {},
   "outputs": [],
   "source": [
    "df[\"Name\"] = df[\"Name\"].str.title()"
   ]
  },
  {
   "cell_type": "code",
   "execution_count": 20,
   "id": "09736ba4-6f61-4e37-bdd3-ba7054bc2438",
   "metadata": {},
   "outputs": [],
   "source": [
    "df[\"Total_Sales\"] = pd.to_numeric(df[\"Total_Sales\"], errors=\"coerce\")"
   ]
  },
  {
   "cell_type": "markdown",
   "id": "462ebf6d-6c76-44da-8177-fe3de13b5cb8",
   "metadata": {},
   "source": [
    "**Drop null values**"
   ]
  },
  {
   "cell_type": "code",
   "execution_count": 21,
   "id": "5879f493-6866-4c57-a1e6-b249ea2a1186",
   "metadata": {},
   "outputs": [
    {
     "name": "stderr",
     "output_type": "stream",
     "text": [
      "C:\\Users\\lucky\\AppData\\Local\\Temp\\ipykernel_11696\\2955515176.py:1: FutureWarning: A value is trying to be set on a copy of a DataFrame or Series through chained assignment using an inplace method.\n",
      "The behavior will change in pandas 3.0. This inplace method will never work because the intermediate object on which we are setting values always behaves as a copy.\n",
      "\n",
      "For example, when doing 'df[col].method(value, inplace=True)', try using 'df.method({col: value}, inplace=True)' or df[col] = df[col].method(value) instead, to perform the operation inplace on the original object.\n",
      "\n",
      "\n",
      "  df[\"Total_Sales\"].fillna(df[\"Total_Sales\"].median(), inplace=True)\n"
     ]
    }
   ],
   "source": [
    "df[\"Total_Sales\"].fillna(df[\"Total_Sales\"].median(), inplace=True)"
   ]
  },
  {
   "cell_type": "code",
   "execution_count": 22,
   "id": "b5a77864-e166-4c8d-bc02-0370a23800b6",
   "metadata": {},
   "outputs": [
    {
     "name": "stderr",
     "output_type": "stream",
     "text": [
      "C:\\Users\\lucky\\AppData\\Local\\Temp\\ipykernel_11696\\2097741607.py:1: FutureWarning: A value is trying to be set on a copy of a DataFrame or Series through chained assignment using an inplace method.\n",
      "The behavior will change in pandas 3.0. This inplace method will never work because the intermediate object on which we are setting values always behaves as a copy.\n",
      "\n",
      "For example, when doing 'df[col].method(value, inplace=True)', try using 'df.method({col: value}, inplace=True)' or df[col] = df[col].method(value) instead, to perform the operation inplace on the original object.\n",
      "\n",
      "\n",
      "  df[\"Age\"].fillna(df[\"Age\"].median(), inplace=True)\n"
     ]
    }
   ],
   "source": [
    "df[\"Age\"].fillna(df[\"Age\"].median(), inplace=True)"
   ]
  },
  {
   "cell_type": "code",
   "execution_count": 23,
   "id": "a0137b63-c8b9-48a4-bf34-e50b31c82545",
   "metadata": {},
   "outputs": [],
   "source": [
    "df.dropna(subset=[\"Signup_Date\"], inplace=True)"
   ]
  },
  {
   "cell_type": "code",
   "execution_count": 24,
   "id": "fddbdc6c-d854-4c04-9b70-8da9a4ed82f3",
   "metadata": {},
   "outputs": [],
   "source": [
    "df.dropna(subset=[\"Name\"], inplace=True)"
   ]
  },
  {
   "cell_type": "code",
   "execution_count": 25,
   "id": "5f9dc67a-d3ec-4b73-a489-8142a03b5320",
   "metadata": {},
   "outputs": [],
   "source": [
    "df.dropna(subset=[\"Gender\"], inplace=True)"
   ]
  },
  {
   "cell_type": "code",
   "execution_count": 36,
   "id": "abe42ca9-ec8f-4514-a758-69a1566d7756",
   "metadata": {},
   "outputs": [
    {
     "name": "stdout",
     "output_type": "stream",
     "text": [
      "Customer_ID    0\n",
      "Name           0\n",
      "Age            0\n",
      "Gender         0\n",
      "Total_Sales    0\n",
      "Signup_Date    0\n",
      "dtype: int64\n",
      "['female' 'male']\n",
      "0    Alice\n",
      "3    David\n",
      "7    Grace\n",
      "Name: Name, dtype: object\n",
      "Customer_ID             int64\n",
      "Name                   object\n",
      "Age                   float64\n",
      "Gender                 object\n",
      "Total_Sales           float64\n",
      "Signup_Date    datetime64[ns]\n",
      "dtype: object\n"
     ]
    }
   ],
   "source": [
    "# Check if there are any missing values left\n",
    "print(df.isnull().sum())\n",
    "\n",
    "# Check unique values in categorical columns to confirm standardization\n",
    "print(df[\"Gender\"].unique())\n",
    "print(df[\"Name\"].sample(n=min(5, len(df)), random_state=42))  # Random sample to verify title case formatting\n",
    "\n",
    "# Check for any remaining non-numeric values in numeric columns\n",
    "print(df.dtypes)\n"
   ]
  },
  {
   "cell_type": "code",
   "execution_count": 37,
   "id": "eaf51f14-2216-4d26-b282-4574f72cef34",
   "metadata": {},
   "outputs": [],
   "source": [
    "df.to_csv(\"cleaned_customer_sales.csv\", index=False)"
   ]
  },
  {
   "cell_type": "code",
   "execution_count": null,
   "id": "cfd2e6e9-6318-4fd6-ab22-26c5a131e4fe",
   "metadata": {},
   "outputs": [],
   "source": []
  }
 ],
 "metadata": {
  "kernelspec": {
   "display_name": "Python 3 (ipykernel)",
   "language": "python",
   "name": "python3"
  },
  "language_info": {
   "codemirror_mode": {
    "name": "ipython",
    "version": 3
   },
   "file_extension": ".py",
   "mimetype": "text/x-python",
   "name": "python",
   "nbconvert_exporter": "python",
   "pygments_lexer": "ipython3",
   "version": "3.12.4"
  }
 },
 "nbformat": 4,
 "nbformat_minor": 5
}
