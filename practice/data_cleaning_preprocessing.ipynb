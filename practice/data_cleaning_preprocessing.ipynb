{
 "cells": [
  {
   "cell_type": "code",
   "execution_count": 1,
   "id": "453e581d-52b0-488c-8d9f-5e9f870f4153",
   "metadata": {},
   "outputs": [],
   "source": [
    "import pandas as pd"
   ]
  },
  {
   "cell_type": "code",
   "execution_count": 3,
   "id": "cf3fe03b-cd53-4e54-9b38-7287df472510",
   "metadata": {},
   "outputs": [
    {
     "data": {
      "text/html": [
       "<div>\n",
       "<style scoped>\n",
       "    .dataframe tbody tr th:only-of-type {\n",
       "        vertical-align: middle;\n",
       "    }\n",
       "\n",
       "    .dataframe tbody tr th {\n",
       "        vertical-align: top;\n",
       "    }\n",
       "\n",
       "    .dataframe thead th {\n",
       "        text-align: right;\n",
       "    }\n",
       "</style>\n",
       "<table border=\"1\" class=\"dataframe\">\n",
       "  <thead>\n",
       "    <tr style=\"text-align: right;\">\n",
       "      <th></th>\n",
       "      <th>Date</th>\n",
       "      <th>Item</th>\n",
       "      <th>Total Revenue</th>\n",
       "      <th>Units Sold</th>\n",
       "      <th>Discount (%)</th>\n",
       "    </tr>\n",
       "  </thead>\n",
       "  <tbody>\n",
       "    <tr>\n",
       "      <th>0</th>\n",
       "      <td>2025-03-01</td>\n",
       "      <td>Croissant</td>\n",
       "      <td>500</td>\n",
       "      <td>50</td>\n",
       "      <td>5.0</td>\n",
       "    </tr>\n",
       "    <tr>\n",
       "      <th>1</th>\n",
       "      <td>03-02-2025</td>\n",
       "      <td>Baguette</td>\n",
       "      <td>600</td>\n",
       "      <td>NaN</td>\n",
       "      <td>10.0</td>\n",
       "    </tr>\n",
       "    <tr>\n",
       "      <th>2</th>\n",
       "      <td>2025/03/03</td>\n",
       "      <td>Muffin</td>\n",
       "      <td>NaN</td>\n",
       "      <td>40</td>\n",
       "      <td>15.0</td>\n",
       "    </tr>\n",
       "    <tr>\n",
       "      <th>3</th>\n",
       "      <td>March 4, 2025</td>\n",
       "      <td>Donut</td>\n",
       "      <td>450</td>\n",
       "      <td>30</td>\n",
       "      <td>NaN</td>\n",
       "    </tr>\n",
       "    <tr>\n",
       "      <th>4</th>\n",
       "      <td>2025-03-05</td>\n",
       "      <td>Cake</td>\n",
       "      <td>error</td>\n",
       "      <td>twenty</td>\n",
       "      <td>20.0</td>\n",
       "    </tr>\n",
       "  </tbody>\n",
       "</table>\n",
       "</div>"
      ],
      "text/plain": [
       "            Date       Item Total Revenue Units Sold  Discount (%)\n",
       "0     2025-03-01  Croissant           500         50           5.0\n",
       "1     03-02-2025   Baguette           600        NaN          10.0\n",
       "2     2025/03/03     Muffin           NaN         40          15.0\n",
       "3  March 4, 2025      Donut           450         30           NaN\n",
       "4     2025-03-05       Cake         error     twenty          20.0"
      ]
     },
     "execution_count": 3,
     "metadata": {},
     "output_type": "execute_result"
    }
   ],
   "source": [
    "#Load Dataset\n",
    "df = pd.read_csv(\"bakery_sales_data.csv\")\n",
    "\n",
    "#display first 5 rows\n",
    "df.head()"
   ]
  },
  {
   "cell_type": "code",
   "execution_count": 4,
   "id": "1297b6c7-147e-4fb2-8b5e-b8b7259be021",
   "metadata": {},
   "outputs": [
    {
     "name": "stdout",
     "output_type": "stream",
     "text": [
      "Date             0\n",
      "Item             1\n",
      "Total Revenue    1\n",
      "Units Sold       1\n",
      "Discount (%)     2\n",
      "dtype: int64\n"
     ]
    }
   ],
   "source": [
    "#check for missing values\n",
    "print(df.isnull().sum()) # Count missing values in each column"
   ]
  },
  {
   "cell_type": "markdown",
   "id": "085720b5-655b-48e5-9e9e-b2af3696afed",
   "metadata": {},
   "source": [
    "**Fix Date Format**\n",
    "\n",
    "***Convert all dates to YYYY-MM-DD format:***"
   ]
  },
  {
   "cell_type": "code",
   "execution_count": 6,
   "id": "f9822e67-1757-4bdb-bc05-6e3e44c4e697",
   "metadata": {},
   "outputs": [
    {
     "name": "stdout",
     "output_type": "stream",
     "text": [
      "0   2025-03-01\n",
      "1          NaT\n",
      "2          NaT\n",
      "3          NaT\n",
      "4   2025-03-05\n",
      "5          NaT\n",
      "6   2025-03-07\n",
      "Name: Date, dtype: datetime64[ns]\n"
     ]
    }
   ],
   "source": [
    "df[\"Date\"] = pd.to_datetime(df[\"Date\"], errors='coerce') # Convert to datetime\n",
    "print(df[\"Date\"]) # Check corrected format"
   ]
  },
  {
   "cell_type": "markdown",
   "id": "871cf712-4b13-458d-92d0-6503e4145480",
   "metadata": {},
   "source": [
    "**Fix Numeric Columns**\n",
    "\n",
    "***Convert Total Revenue, Units Sold, Discount (%) to numbers***"
   ]
  },
  {
   "cell_type": "code",
   "execution_count": 7,
   "id": "14ae4bea-37f4-4148-8a4b-a941a3dac0f4",
   "metadata": {},
   "outputs": [],
   "source": [
    "df[\"Total Revenue\"] = pd.to_numeric(df[\"Total Revenue\"], errors='coerce')\n",
    "df[\"Units Sold\"] = pd.to_numeric(df[\"Units Sold\"], errors='coerce')\n",
    "df[\"Discount (%)\"] = pd.to_numeric(\"Discount (%)\", errors='coerce')"
   ]
  },
  {
   "cell_type": "markdown",
   "id": "e8f5a829-fb13-48bc-8611-20dc699e1913",
   "metadata": {},
   "source": [
    "**Handle Missing Values**\n",
    "\n",
    "***Fill or Drop Missing Values***"
   ]
  },
  {
   "cell_type": "code",
   "execution_count": 9,
   "id": "38710179-cbcb-4726-926c-f9647d83fa65",
   "metadata": {},
   "outputs": [
    {
     "name": "stderr",
     "output_type": "stream",
     "text": [
      "C:\\Users\\lucky\\AppData\\Local\\Temp\\ipykernel_18136\\98946473.py:2: FutureWarning: A value is trying to be set on a copy of a DataFrame or Series through chained assignment using an inplace method.\n",
      "The behavior will change in pandas 3.0. This inplace method will never work because the intermediate object on which we are setting values always behaves as a copy.\n",
      "\n",
      "For example, when doing 'df[col].method(value, inplace=True)', try using 'df.method({col: value}, inplace=True)' or df[col] = df[col].method(value) instead, to perform the operation inplace on the original object.\n",
      "\n",
      "\n",
      "  df[\"Units Sold\"].fillna(df[\"Units Sold\"].median(), inplace=True) # Replace with median\n",
      "C:\\Users\\lucky\\AppData\\Local\\Temp\\ipykernel_18136\\98946473.py:3: FutureWarning: A value is trying to be set on a copy of a DataFrame or Series through chained assignment using an inplace method.\n",
      "The behavior will change in pandas 3.0. This inplace method will never work because the intermediate object on which we are setting values always behaves as a copy.\n",
      "\n",
      "For example, when doing 'df[col].method(value, inplace=True)', try using 'df.method({col: value}, inplace=True)' or df[col] = df[col].method(value) instead, to perform the operation inplace on the original object.\n",
      "\n",
      "\n",
      "  df[\"Discount (%)\"].fillna(0, inplace=True) # Assume 0 discount if missing\n"
     ]
    }
   ],
   "source": [
    "#fill missing value\n",
    "df[\"Units Sold\"].fillna(df[\"Units Sold\"].median(), inplace=True) # Replace with median\n",
    "df[\"Discount (%)\"].fillna(0, inplace=True) # Assume 0 discount if missing\n",
    "\n",
    "#drop\n",
    "df.dropna(subset=[\"Date\"], inplace=True) # Drop invalid dates\n",
    "\n",
    "#Interpolate for trends\n",
    "df[\"Total Revenue\"] = df[\"Total Revenue\"].interpolate(method='linear')"
   ]
  },
  {
   "cell_type": "code",
   "execution_count": 10,
   "id": "db81474f-2e89-49de-8da7-48db09c61da5",
   "metadata": {},
   "outputs": [],
   "source": [
    "df.to_csv(\"cleaned_dataset.csv\", index=False)"
   ]
  },
  {
   "cell_type": "code",
   "execution_count": 11,
   "id": "8fa7fb26-52f3-4cd9-8fc0-53ad2d8f32bf",
   "metadata": {},
   "outputs": [
    {
     "name": "stdout",
     "output_type": "stream",
     "text": [
      "CSV file 'messy_bakery_data.csv' has been created successfully!\n"
     ]
    }
   ],
   "source": [
    "import pandas as pd\n",
    "\n",
    "data = {\n",
    "    \"Order_ID\": [101, 102, 103, 104, 105, 106, 107, 108, 109, 110, 103],  \n",
    "    \"Customer_Name\": [\"Alice\", \"Bob\", \"Charlie\", None, \"Eve\", \"Frank\", \"Grace\", \"Hank\", \"Ivy\", \"Jack\", \"Charlie\"],  \n",
    "    \"Product\": [\"Cake\", \"Bread\", \"Pastry\", \"Cake\", \"Bread\", \"Bread\", \"Pastry\", \"Cake\", \"Pastry\", \"Bread\", \"Pastry\"],\n",
    "    \"Price\": [250, 100, 150, None, 120, 90, 180, 270, 200, 95, 150],  \n",
    "    \"Quantity\": [2, 1, 3, 2, 1, None, 3, 4, 2, 1, 3],  \n",
    "    \"Total_Sales\": [500, 100, 450, None, 120, 90, 540, 1080, 400, 95, 450],  \n",
    "    \"Date\": [\"2024-03-01\", \"2024-03-02\", \"2024/03/03\", \"2024-03-04\", \"03-05-2024\", \"2024-03-06\", \n",
    "             \"2024-03-07\", \"2024/03/08\", \"March 9, 2024\", \"2024-03-10\", \"2024/03/03\"],  \n",
    "    \"Discount (%)\": [10, 5, 8, 12, None, 0, 7, 15, 5, 10, 8],  \n",
    "    \"Rating\": [4.5, 3.8, 4.0, 2.0, 5.0, 4.1, 4.3, 4.7, None, 3.9, 4.0]  \n",
    "}\n",
    "\n",
    "df_messy = pd.DataFrame(data)\n",
    "df_messy.to_csv(\"messy_bakery_data.csv\", index=False)\n",
    "\n",
    "print(\"CSV file 'messy_bakery_data.csv' has been created successfully!\")"
   ]
  },
  {
   "cell_type": "code",
   "execution_count": 12,
   "id": "346ba222-7b57-4ccd-859b-7587805601c1",
   "metadata": {},
   "outputs": [
    {
     "data": {
      "text/html": [
       "<div>\n",
       "<style scoped>\n",
       "    .dataframe tbody tr th:only-of-type {\n",
       "        vertical-align: middle;\n",
       "    }\n",
       "\n",
       "    .dataframe tbody tr th {\n",
       "        vertical-align: top;\n",
       "    }\n",
       "\n",
       "    .dataframe thead th {\n",
       "        text-align: right;\n",
       "    }\n",
       "</style>\n",
       "<table border=\"1\" class=\"dataframe\">\n",
       "  <thead>\n",
       "    <tr style=\"text-align: right;\">\n",
       "      <th></th>\n",
       "      <th>Order_ID</th>\n",
       "      <th>Customer_Name</th>\n",
       "      <th>Product</th>\n",
       "      <th>Price</th>\n",
       "      <th>Quantity</th>\n",
       "      <th>Total_Sales</th>\n",
       "      <th>Date</th>\n",
       "      <th>Discount (%)</th>\n",
       "      <th>Rating</th>\n",
       "    </tr>\n",
       "  </thead>\n",
       "  <tbody>\n",
       "    <tr>\n",
       "      <th>0</th>\n",
       "      <td>101</td>\n",
       "      <td>Alice</td>\n",
       "      <td>Cake</td>\n",
       "      <td>250.0</td>\n",
       "      <td>2.0</td>\n",
       "      <td>500.0</td>\n",
       "      <td>2024-03-01</td>\n",
       "      <td>10.0</td>\n",
       "      <td>4.5</td>\n",
       "    </tr>\n",
       "    <tr>\n",
       "      <th>1</th>\n",
       "      <td>102</td>\n",
       "      <td>Bob</td>\n",
       "      <td>Bread</td>\n",
       "      <td>100.0</td>\n",
       "      <td>1.0</td>\n",
       "      <td>100.0</td>\n",
       "      <td>2024-03-02</td>\n",
       "      <td>5.0</td>\n",
       "      <td>3.8</td>\n",
       "    </tr>\n",
       "    <tr>\n",
       "      <th>2</th>\n",
       "      <td>103</td>\n",
       "      <td>Charlie</td>\n",
       "      <td>Pastry</td>\n",
       "      <td>150.0</td>\n",
       "      <td>3.0</td>\n",
       "      <td>450.0</td>\n",
       "      <td>2024/03/03</td>\n",
       "      <td>8.0</td>\n",
       "      <td>4.0</td>\n",
       "    </tr>\n",
       "    <tr>\n",
       "      <th>3</th>\n",
       "      <td>104</td>\n",
       "      <td>NaN</td>\n",
       "      <td>Cake</td>\n",
       "      <td>NaN</td>\n",
       "      <td>2.0</td>\n",
       "      <td>NaN</td>\n",
       "      <td>2024-03-04</td>\n",
       "      <td>12.0</td>\n",
       "      <td>2.0</td>\n",
       "    </tr>\n",
       "    <tr>\n",
       "      <th>4</th>\n",
       "      <td>105</td>\n",
       "      <td>Eve</td>\n",
       "      <td>Bread</td>\n",
       "      <td>120.0</td>\n",
       "      <td>1.0</td>\n",
       "      <td>120.0</td>\n",
       "      <td>03-05-2024</td>\n",
       "      <td>NaN</td>\n",
       "      <td>5.0</td>\n",
       "    </tr>\n",
       "  </tbody>\n",
       "</table>\n",
       "</div>"
      ],
      "text/plain": [
       "   Order_ID Customer_Name Product  Price  Quantity  Total_Sales        Date  \\\n",
       "0       101         Alice    Cake  250.0       2.0        500.0  2024-03-01   \n",
       "1       102           Bob   Bread  100.0       1.0        100.0  2024-03-02   \n",
       "2       103       Charlie  Pastry  150.0       3.0        450.0  2024/03/03   \n",
       "3       104           NaN    Cake    NaN       2.0          NaN  2024-03-04   \n",
       "4       105           Eve   Bread  120.0       1.0        120.0  03-05-2024   \n",
       "\n",
       "   Discount (%)  Rating  \n",
       "0          10.0     4.5  \n",
       "1           5.0     3.8  \n",
       "2           8.0     4.0  \n",
       "3          12.0     2.0  \n",
       "4           NaN     5.0  "
      ]
     },
     "execution_count": 12,
     "metadata": {},
     "output_type": "execute_result"
    }
   ],
   "source": [
    "#load the dataset\n",
    "df = pd.read_csv(\"messy_bakery_data.csv\")\n",
    "\n",
    "#Display the first 5 rows\n",
    "df.head()"
   ]
  },
  {
   "cell_type": "markdown",
   "id": "ce74f6cd-b986-47c5-8e7f-8e8e1ab0844b",
   "metadata": {},
   "source": [
    "**check missing values**"
   ]
  },
  {
   "cell_type": "code",
   "execution_count": 13,
   "id": "b78292e9-df6a-4952-a61e-efc23aeee3a9",
   "metadata": {},
   "outputs": [
    {
     "data": {
      "text/plain": [
       "Order_ID         0\n",
       "Customer_Name    1\n",
       "Product          0\n",
       "Price            1\n",
       "Quantity         1\n",
       "Total_Sales      1\n",
       "Date             0\n",
       "Discount (%)     1\n",
       "Rating           1\n",
       "dtype: int64"
      ]
     },
     "execution_count": 13,
     "metadata": {},
     "output_type": "execute_result"
    }
   ],
   "source": [
    "df.isnull().sum()"
   ]
  },
  {
   "cell_type": "markdown",
   "id": "4fa6bd6d-b8e5-4f2e-824e-5fed8953faa9",
   "metadata": {},
   "source": [
    "**Handle missing values**"
   ]
  },
  {
   "cell_type": "code",
   "execution_count": 16,
   "id": "a823524d-6ea1-4411-9ba5-47cb1f74dce3",
   "metadata": {},
   "outputs": [
    {
     "name": "stderr",
     "output_type": "stream",
     "text": [
      "C:\\Users\\lucky\\AppData\\Local\\Temp\\ipykernel_18136\\1091841253.py:7: FutureWarning: A value is trying to be set on a copy of a DataFrame or Series through chained assignment using an inplace method.\n",
      "The behavior will change in pandas 3.0. This inplace method will never work because the intermediate object on which we are setting values always behaves as a copy.\n",
      "\n",
      "For example, when doing 'df[col].method(value, inplace=True)', try using 'df.method({col: value}, inplace=True)' or df[col] = df[col].method(value) instead, to perform the operation inplace on the original object.\n",
      "\n",
      "\n",
      "  df[col].fillna(df[col].median(), inplace=True)\n",
      "C:\\Users\\lucky\\AppData\\Local\\Temp\\ipykernel_18136\\1091841253.py:7: FutureWarning: A value is trying to be set on a copy of a DataFrame or Series through chained assignment using an inplace method.\n",
      "The behavior will change in pandas 3.0. This inplace method will never work because the intermediate object on which we are setting values always behaves as a copy.\n",
      "\n",
      "For example, when doing 'df[col].method(value, inplace=True)', try using 'df.method({col: value}, inplace=True)' or df[col] = df[col].method(value) instead, to perform the operation inplace on the original object.\n",
      "\n",
      "\n",
      "  df[col].fillna(df[col].median(), inplace=True)\n",
      "C:\\Users\\lucky\\AppData\\Local\\Temp\\ipykernel_18136\\1091841253.py:7: FutureWarning: A value is trying to be set on a copy of a DataFrame or Series through chained assignment using an inplace method.\n",
      "The behavior will change in pandas 3.0. This inplace method will never work because the intermediate object on which we are setting values always behaves as a copy.\n",
      "\n",
      "For example, when doing 'df[col].method(value, inplace=True)', try using 'df.method({col: value}, inplace=True)' or df[col] = df[col].method(value) instead, to perform the operation inplace on the original object.\n",
      "\n",
      "\n",
      "  df[col].fillna(df[col].median(), inplace=True)\n",
      "C:\\Users\\lucky\\AppData\\Local\\Temp\\ipykernel_18136\\1091841253.py:7: FutureWarning: A value is trying to be set on a copy of a DataFrame or Series through chained assignment using an inplace method.\n",
      "The behavior will change in pandas 3.0. This inplace method will never work because the intermediate object on which we are setting values always behaves as a copy.\n",
      "\n",
      "For example, when doing 'df[col].method(value, inplace=True)', try using 'df.method({col: value}, inplace=True)' or df[col] = df[col].method(value) instead, to perform the operation inplace on the original object.\n",
      "\n",
      "\n",
      "  df[col].fillna(df[col].median(), inplace=True)\n",
      "C:\\Users\\lucky\\AppData\\Local\\Temp\\ipykernel_18136\\1091841253.py:7: FutureWarning: A value is trying to be set on a copy of a DataFrame or Series through chained assignment using an inplace method.\n",
      "The behavior will change in pandas 3.0. This inplace method will never work because the intermediate object on which we are setting values always behaves as a copy.\n",
      "\n",
      "For example, when doing 'df[col].method(value, inplace=True)', try using 'df.method({col: value}, inplace=True)' or df[col] = df[col].method(value) instead, to perform the operation inplace on the original object.\n",
      "\n",
      "\n",
      "  df[col].fillna(df[col].median(), inplace=True)\n"
     ]
    },
    {
     "data": {
      "text/plain": [
       "Order_ID         0\n",
       "Customer_Name    0\n",
       "Product          0\n",
       "Price            0\n",
       "Quantity         0\n",
       "Total_Sales      0\n",
       "Date             0\n",
       "Discount (%)     0\n",
       "Rating           0\n",
       "dtype: int64"
      ]
     },
     "execution_count": 16,
     "metadata": {},
     "output_type": "execute_result"
    }
   ],
   "source": [
    "# Fill missing Customer_Name with 'Unknown'\n",
    "df[\"Customer_Name\"].fillna(\"Unknown\", inplace=True)\n",
    "\n",
    "# Fill numerical columns with median values\n",
    "num_cols = [\"Price\", \"Quantity\", \"Total_Sales\", \"Discount (%)\", \"Rating\"]\n",
    "for col in num_cols:\n",
    "    df[col].fillna(df[col].median(), inplace=True)\n",
    "\n",
    "# Verify that there are no missing values left\n",
    "df.isnull().sum()"
   ]
  },
  {
   "cell_type": "markdown",
   "id": "6621b4f0-05fb-4ff4-b4da-d14f7f8567e5",
   "metadata": {},
   "source": [
    "**Convert Data to Proper Types**"
   ]
  },
  {
   "cell_type": "code",
   "execution_count": 17,
   "id": "5ba4bc86-08a9-4d6b-94bb-f87bd3acd72a",
   "metadata": {},
   "outputs": [
    {
     "data": {
      "text/plain": [
       "Order_ID                  int64\n",
       "Customer_Name            object\n",
       "Product                  object\n",
       "Price                   float64\n",
       "Quantity                float64\n",
       "Total_Sales             float64\n",
       "Date             datetime64[ns]\n",
       "Discount (%)            float64\n",
       "Rating                  float64\n",
       "dtype: object"
      ]
     },
     "execution_count": 17,
     "metadata": {},
     "output_type": "execute_result"
    }
   ],
   "source": [
    "# Convert Date column to datetime format\n",
    "df[\"Date\"] = pd.to_datetime(df[\"Date\"], errors=\"coerce\")\n",
    "\n",
    "#verify datatypes\n",
    "df.dtypes"
   ]
  },
  {
   "cell_type": "markdown",
   "id": "3b7a5017-ef23-4ab5-8315-a09c138f06a9",
   "metadata": {},
   "source": [
    "**Handling Duplicates**"
   ]
  },
  {
   "cell_type": "code",
   "execution_count": 19,
   "id": "8ca95928-5c3b-4114-9047-7607137757c2",
   "metadata": {},
   "outputs": [
    {
     "data": {
      "text/plain": [
       "np.int64(1)"
      ]
     },
     "execution_count": 19,
     "metadata": {},
     "output_type": "execute_result"
    }
   ],
   "source": [
    "# Check for duplicate rows\n",
    "df.duplicated().sum()"
   ]
  },
  {
   "cell_type": "code",
   "execution_count": 20,
   "id": "a35fc042-2912-4feb-b962-5d917dd21c21",
   "metadata": {},
   "outputs": [
    {
     "data": {
      "text/plain": [
       "np.int64(0)"
      ]
     },
     "execution_count": 20,
     "metadata": {},
     "output_type": "execute_result"
    }
   ],
   "source": [
    "#Let's remove the duplicate row and keep only unique records.\n",
    "df = df.drop_duplicates()\n",
    "\n",
    "# Verify if duplicates are removed\n",
    "df.duplicated().sum()"
   ]
  },
  {
   "cell_type": "markdown",
   "id": "767aefbd-3d40-4db5-b130-89622dc66764",
   "metadata": {},
   "source": [
    "**Handling Outliers**"
   ]
  },
  {
   "cell_type": "code",
   "execution_count": 23,
   "id": "3d2bb6b1-443c-4d4d-a5e2-2040481626dd",
   "metadata": {},
   "outputs": [
    {
     "data": {
      "image/png": "[encoded data removed]",
      "text/plain": [
       "<Figure size 1200x600 with 1 Axes>"
      ]
     },
     "metadata": {},
     "output_type": "display_data"
    }
   ],
   "source": [
    "import matplotlib.pyplot as plt\n",
    "import seaborn as sns\n",
    "\n",
    "# Plot boxplots for numerical columns\n",
    "plt.figure(figsize=(12,6))\n",
    "df.boxplot(column=['Price', 'Quantity', 'Total_Sales', 'Discount (%)', 'Rating'])\n",
    "plt.xticks(rotation=15)\n",
    "plt.show()"
   ]
  },
  {
   "cell_type": "code",
   "execution_count": 40,
   "id": "4faad47f-08d1-4ff2-96a8-539c9d482e5c",
   "metadata": {},
   "outputs": [
    {
     "name": "stdout",
     "output_type": "stream",
     "text": [
      "CSV file saved as 'missing_data.csv'\n"
     ]
    }
   ],
   "source": [
    "import pandas as pd\n",
    "import numpy as np\n",
    "\n",
    "# Create dataset with missing values\n",
    "data = {\n",
    "    \"Order_ID\": [101, 102, 103, 104, 105, 106, 107, 108, 109, 110],\n",
    "    \"Customer_Name\": [\"Alice\", \"Bob\", np.nan, \"David\", \"Eva\", \"Frank\", np.nan, \"Hannah\", \"Ian\", \"Julia\"],\n",
    "    \"Product\": [\"Laptop\", \"Phone\", \"Tablet\", \"Laptop\", \"Tablet\", \"Phone\", \"Laptop\", \"Tablet\", \"Phone\", \"Laptop\"],\n",
    "    \"Price\": [750, 500, np.nan, 800, 400, np.nan, 900, 450, 550, 700],\n",
    "    \"Quantity\": [1, 2, 1, 1, np.nan, 3, 2, 1, 2, np.nan],\n",
    "    \"Total_Sales\": [750, 1000, np.nan, 800, 400, np.nan, 1800, 450, 1100, 700],\n",
    "    \"Date\": pd.to_datetime([\"2024-02-01\", \"2024-02-02\", np.nan, \"2024-02-04\", \"2024-02-05\",\n",
    "                             \"2024-02-06\", \"2024-02-07\", \"2024-02-08\", np.nan, \"2024-02-10\"]),\n",
    "    \"Discount (%)\": [10, np.nan, 5, 15, 10, np.nan, 20, 5, np.nan, 15],\n",
    "    \"Rating\": [4.5, 4.0, np.nan, 5.0, 3.8, np.nan, 4.2, 4.7, 4.0, np.nan],\n",
    "}\n",
    "\n",
    "# Convert to DataFrame\n",
    "df = pd.DataFrame(data)\n",
    "\n",
    "# Save as CSV\n",
    "df.to_csv(\"missing_data.csv\", index=False)\n",
    "\n",
    "print(\"CSV file saved as 'missing_data.csv'\")\n"
   ]
  },
  {
   "cell_type": "markdown",
   "id": "d5447f7b-a428-4242-bde9-cec682ca47dd",
   "metadata": {},
   "source": [
    "**1️⃣ Check for Missing Data**"
   ]
  },
  {
   "cell_type": "code",
   "execution_count": 41,
   "id": "b03889f8-dfec-4791-a720-023cb76f85c3",
   "metadata": {},
   "outputs": [
    {
     "name": "stdout",
     "output_type": "stream",
     "text": [
      "Order_ID         0\n",
      "Customer_Name    2\n",
      "Product          0\n",
      "Price            2\n",
      "Quantity         2\n",
      "Total_Sales      2\n",
      "Date             2\n",
      "Discount (%)     3\n",
      "Rating           3\n",
      "dtype: int64\n"
     ]
    }
   ],
   "source": [
    "import pandas as pd\n",
    "\n",
    "# Load the dataset\n",
    "df = pd.read_csv(\"missing_data.csv\")\n",
    "\n",
    "# Check for missing values\n",
    "print(df.isnull().sum())\n"
   ]
  },
  {
   "cell_type": "markdown",
   "id": "bb7ce799-2bd0-4096-a0ad-dc8927d068e6",
   "metadata": {},
   "source": [
    "**2️⃣ Handling Missing Values: Different Approaches**"
   ]
  },
  {
   "cell_type": "code",
   "execution_count": 42,
   "id": "a7335aca-fb81-4f88-94d9-d9b3c7e76a06",
   "metadata": {},
   "outputs": [
    {
     "name": "stderr",
     "output_type": "stream",
     "text": [
      "C:\\Users\\lucky\\AppData\\Local\\Temp\\ipykernel_11060\\1951908752.py:2: FutureWarning: A value is trying to be set on a copy of a DataFrame or Series through chained assignment using an inplace method.\n",
      "The behavior will change in pandas 3.0. This inplace method will never work because the intermediate object on which we are setting values always behaves as a copy.\n",
      "\n",
      "For example, when doing 'df[col].method(value, inplace=True)', try using 'df.method({col: value}, inplace=True)' or df[col] = df[col].method(value) instead, to perform the operation inplace on the original object.\n",
      "\n",
      "\n",
      "  df[\"Price\"].fillna(df[\"Price\"].mean(), inplace=True)\n",
      "C:\\Users\\lucky\\AppData\\Local\\Temp\\ipykernel_11060\\1951908752.py:3: FutureWarning: A value is trying to be set on a copy of a DataFrame or Series through chained assignment using an inplace method.\n",
      "The behavior will change in pandas 3.0. This inplace method will never work because the intermediate object on which we are setting values always behaves as a copy.\n",
      "\n",
      "For example, when doing 'df[col].method(value, inplace=True)', try using 'df.method({col: value}, inplace=True)' or df[col] = df[col].method(value) instead, to perform the operation inplace on the original object.\n",
      "\n",
      "\n",
      "  df[\"Quantity\"].fillna(df[\"Quantity\"].median(), inplace=True)\n",
      "C:\\Users\\lucky\\AppData\\Local\\Temp\\ipykernel_11060\\1951908752.py:4: FutureWarning: A value is trying to be set on a copy of a DataFrame or Series through chained assignment using an inplace method.\n",
      "The behavior will change in pandas 3.0. This inplace method will never work because the intermediate object on which we are setting values always behaves as a copy.\n",
      "\n",
      "For example, when doing 'df[col].method(value, inplace=True)', try using 'df.method({col: value}, inplace=True)' or df[col] = df[col].method(value) instead, to perform the operation inplace on the original object.\n",
      "\n",
      "\n",
      "  df[\"Discount (%)\"].fillna(df[\"Discount (%)\"].mean(), inplace=True)\n",
      "C:\\Users\\lucky\\AppData\\Local\\Temp\\ipykernel_11060\\1951908752.py:5: FutureWarning: A value is trying to be set on a copy of a DataFrame or Series through chained assignment using an inplace method.\n",
      "The behavior will change in pandas 3.0. This inplace method will never work because the intermediate object on which we are setting values always behaves as a copy.\n",
      "\n",
      "For example, when doing 'df[col].method(value, inplace=True)', try using 'df.method({col: value}, inplace=True)' or df[col] = df[col].method(value) instead, to perform the operation inplace on the original object.\n",
      "\n",
      "\n",
      "  df[\"Rating\"].fillna(df[\"Rating\"].median(), inplace=True)\n",
      "C:\\Users\\lucky\\AppData\\Local\\Temp\\ipykernel_11060\\1951908752.py:6: FutureWarning: A value is trying to be set on a copy of a DataFrame or Series through chained assignment using an inplace method.\n",
      "The behavior will change in pandas 3.0. This inplace method will never work because the intermediate object on which we are setting values always behaves as a copy.\n",
      "\n",
      "For example, when doing 'df[col].method(value, inplace=True)', try using 'df.method({col: value}, inplace=True)' or df[col] = df[col].method(value) instead, to perform the operation inplace on the original object.\n",
      "\n",
      "\n",
      "  df[\"Total_Sales\"].fillna(df[\"Total_Sales\"].median(), inplace=True)\n",
      "C:\\Users\\lucky\\AppData\\Local\\Temp\\ipykernel_11060\\1951908752.py:10: FutureWarning: A value is trying to be set on a copy of a DataFrame or Series through chained assignment using an inplace method.\n",
      "The behavior will change in pandas 3.0. This inplace method will never work because the intermediate object on which we are setting values always behaves as a copy.\n",
      "\n",
      "For example, when doing 'df[col].method(value, inplace=True)', try using 'df.method({col: value}, inplace=True)' or df[col] = df[col].method(value) instead, to perform the operation inplace on the original object.\n",
      "\n",
      "\n",
      "  df[\"Customer_Name\"].fillna(df[\"Customer_Name\"].mode()[0], inplace=True)\n",
      "C:\\Users\\lucky\\AppData\\Local\\Temp\\ipykernel_11060\\1951908752.py:13: FutureWarning: A value is trying to be set on a copy of a DataFrame or Series through chained assignment using an inplace method.\n",
      "The behavior will change in pandas 3.0. This inplace method will never work because the intermediate object on which we are setting values always behaves as a copy.\n",
      "\n",
      "For example, when doing 'df[col].method(value, inplace=True)', try using 'df.method({col: value}, inplace=True)' or df[col] = df[col].method(value) instead, to perform the operation inplace on the original object.\n",
      "\n",
      "\n",
      "  df[\"Date\"].fillna(\"2024-01-01\", inplace=True)  # Default date\n"
     ]
    }
   ],
   "source": [
    "# Fill numerical columns with mean\n",
    "df[\"Price\"].fillna(df[\"Price\"].mean(), inplace=True)\n",
    "df[\"Quantity\"].fillna(df[\"Quantity\"].median(), inplace=True)\n",
    "df[\"Discount (%)\"].fillna(df[\"Discount (%)\"].mean(), inplace=True)\n",
    "df[\"Rating\"].fillna(df[\"Rating\"].median(), inplace=True)\n",
    "df[\"Total_Sales\"].fillna(df[\"Total_Sales\"].median(), inplace=True)\n",
    "\n",
    "\n",
    "# Fill categorical columns with mode (most common value)\n",
    "df[\"Customer_Name\"].fillna(df[\"Customer_Name\"].mode()[0], inplace=True)\n",
    "\n",
    "# Fill missing dates with a placeholder\n",
    "df[\"Date\"].fillna(\"2024-01-01\", inplace=True)  # Default date\n",
    "df[\"Date\"] = pd.to_datetime(df[\"Date\"])  # Convert back to datetime format\n"
   ]
  },
  {
   "cell_type": "markdown",
   "id": "17025212-59f7-4044-a567-725286c049ac",
   "metadata": {},
   "source": [
    "**3️⃣ Verify Missing Data is Handled**"
   ]
  },
  {
   "cell_type": "code",
   "execution_count": 43,
   "id": "06e890f6-63ef-4dec-955b-dee34aea4c4a",
   "metadata": {},
   "outputs": [
    {
     "name": "stdout",
     "output_type": "stream",
     "text": [
      "Order_ID         0\n",
      "Customer_Name    0\n",
      "Product          0\n",
      "Price            0\n",
      "Quantity         0\n",
      "Total_Sales      0\n",
      "Date             0\n",
      "Discount (%)     0\n",
      "Rating           0\n",
      "dtype: int64\n"
     ]
    }
   ],
   "source": [
    "print(df.isnull().sum())  # Should print all zeros if handled correctly"
   ]
  },
  {
   "cell_type": "markdown",
   "id": "983fe52a-1e17-422a-b184-71de2aa49cbd",
   "metadata": {},
   "source": [
    "**4️⃣ Save the Cleaned Dataset**"
   ]
  },
  {
   "cell_type": "code",
   "execution_count": 44,
   "id": "05278953-b676-481f-bb20-c92e15b36ffd",
   "metadata": {},
   "outputs": [
    {
     "name": "stdout",
     "output_type": "stream",
     "text": [
      "Cleaned dataset saved!\n"
     ]
    }
   ],
   "source": [
    "df.to_csv(\"cleaned_data.csv\", index=False)\n",
    "print(\"Cleaned dataset saved!\")"
   ]
  },
  {
   "cell_type": "markdown",
   "id": "057505a1-9c0c-40ed-bddb-5d7762f371bb",
   "metadata": {},
   "source": [
    "****Data Transformation****"
   ]
  },
  {
   "cell_type": "markdown",
   "id": "33d16cf4-83cc-461c-b251-967249d3695c",
   "metadata": {},
   "source": [
    "🔹 Step 1: Load Data"
   ]
  },
  {
   "cell_type": "code",
   "execution_count": 45,
   "id": "53f39fa7-3949-42a9-b4ee-3ba3e05a86a0",
   "metadata": {},
   "outputs": [
    {
     "data": {
      "text/html": [
       "<div>\n",
       "<style scoped>\n",
       "    .dataframe tbody tr th:only-of-type {\n",
       "        vertical-align: middle;\n",
       "    }\n",
       "\n",
       "    .dataframe tbody tr th {\n",
       "        vertical-align: top;\n",
       "    }\n",
       "\n",
       "    .dataframe thead th {\n",
       "        text-align: right;\n",
       "    }\n",
       "</style>\n",
       "<table border=\"1\" class=\"dataframe\">\n",
       "  <thead>\n",
       "    <tr style=\"text-align: right;\">\n",
       "      <th></th>\n",
       "      <th>Order_ID</th>\n",
       "      <th>Customer_Name</th>\n",
       "      <th>Product</th>\n",
       "      <th>Price</th>\n",
       "      <th>Quantity</th>\n",
       "      <th>Total_Sales</th>\n",
       "      <th>Date</th>\n",
       "      <th>Discount (%)</th>\n",
       "      <th>Rating</th>\n",
       "    </tr>\n",
       "  </thead>\n",
       "  <tbody>\n",
       "    <tr>\n",
       "      <th>0</th>\n",
       "      <td>101</td>\n",
       "      <td>Alice</td>\n",
       "      <td>Laptop</td>\n",
       "      <td>750.00</td>\n",
       "      <td>1.0</td>\n",
       "      <td>750.0</td>\n",
       "      <td>2024-02-01</td>\n",
       "      <td>10.000000</td>\n",
       "      <td>4.5</td>\n",
       "    </tr>\n",
       "    <tr>\n",
       "      <th>1</th>\n",
       "      <td>102</td>\n",
       "      <td>Bob</td>\n",
       "      <td>Phone</td>\n",
       "      <td>500.00</td>\n",
       "      <td>2.0</td>\n",
       "      <td>1000.0</td>\n",
       "      <td>2024-02-02</td>\n",
       "      <td>11.428571</td>\n",
       "      <td>4.0</td>\n",
       "    </tr>\n",
       "    <tr>\n",
       "      <th>2</th>\n",
       "      <td>103</td>\n",
       "      <td>Alice</td>\n",
       "      <td>Tablet</td>\n",
       "      <td>631.25</td>\n",
       "      <td>1.0</td>\n",
       "      <td>775.0</td>\n",
       "      <td>2024-01-01</td>\n",
       "      <td>5.000000</td>\n",
       "      <td>4.2</td>\n",
       "    </tr>\n",
       "    <tr>\n",
       "      <th>3</th>\n",
       "      <td>104</td>\n",
       "      <td>David</td>\n",
       "      <td>Laptop</td>\n",
       "      <td>800.00</td>\n",
       "      <td>1.0</td>\n",
       "      <td>800.0</td>\n",
       "      <td>2024-02-04</td>\n",
       "      <td>15.000000</td>\n",
       "      <td>5.0</td>\n",
       "    </tr>\n",
       "    <tr>\n",
       "      <th>4</th>\n",
       "      <td>105</td>\n",
       "      <td>Eva</td>\n",
       "      <td>Tablet</td>\n",
       "      <td>400.00</td>\n",
       "      <td>1.5</td>\n",
       "      <td>400.0</td>\n",
       "      <td>2024-02-05</td>\n",
       "      <td>10.000000</td>\n",
       "      <td>3.8</td>\n",
       "    </tr>\n",
       "  </tbody>\n",
       "</table>\n",
       "</div>"
      ],
      "text/plain": [
       "   Order_ID Customer_Name Product   Price  Quantity  Total_Sales        Date  \\\n",
       "0       101         Alice  Laptop  750.00       1.0        750.0  2024-02-01   \n",
       "1       102           Bob   Phone  500.00       2.0       1000.0  2024-02-02   \n",
       "2       103         Alice  Tablet  631.25       1.0        775.0  2024-01-01   \n",
       "3       104         David  Laptop  800.00       1.0        800.0  2024-02-04   \n",
       "4       105           Eva  Tablet  400.00       1.5        400.0  2024-02-05   \n",
       "\n",
       "   Discount (%)  Rating  \n",
       "0     10.000000     4.5  \n",
       "1     11.428571     4.0  \n",
       "2      5.000000     4.2  \n",
       "3     15.000000     5.0  \n",
       "4     10.000000     3.8  "
      ]
     },
     "execution_count": 45,
     "metadata": {},
     "output_type": "execute_result"
    }
   ],
   "source": [
    "from sklearn.preprocessing import MinMaxScaler, StandardScaler\n",
    "\n",
    "#Load your cleaned dataset\n",
    "df = pd.read_csv(\"cleaned_data.csv\")\n",
    "\n",
    "#display first few rows\n",
    "df.head()"
   ]
  },
  {
   "cell_type": "markdown",
   "id": "a4a22550-71d5-4960-bffe-80345fe88b4b",
   "metadata": {},
   "source": [
    "🔹 Step 2: Apply MinMax Scaling (0 to 1)"
   ]
  },
  {
   "cell_type": "code",
   "execution_count": 46,
   "id": "b191cf45-2966-4bcf-896d-deb78f2dec48",
   "metadata": {},
   "outputs": [
    {
     "data": {
      "text/html": [
       "<div>\n",
       "<style scoped>\n",
       "    .dataframe tbody tr th:only-of-type {\n",
       "        vertical-align: middle;\n",
       "    }\n",
       "\n",
       "    .dataframe tbody tr th {\n",
       "        vertical-align: top;\n",
       "    }\n",
       "\n",
       "    .dataframe thead th {\n",
       "        text-align: right;\n",
       "    }\n",
       "</style>\n",
       "<table border=\"1\" class=\"dataframe\">\n",
       "  <thead>\n",
       "    <tr style=\"text-align: right;\">\n",
       "      <th></th>\n",
       "      <th>Order_ID</th>\n",
       "      <th>Customer_Name</th>\n",
       "      <th>Product</th>\n",
       "      <th>Price</th>\n",
       "      <th>Quantity</th>\n",
       "      <th>Total_Sales</th>\n",
       "      <th>Date</th>\n",
       "      <th>Discount (%)</th>\n",
       "      <th>Rating</th>\n",
       "    </tr>\n",
       "  </thead>\n",
       "  <tbody>\n",
       "    <tr>\n",
       "      <th>0</th>\n",
       "      <td>101</td>\n",
       "      <td>Alice</td>\n",
       "      <td>Laptop</td>\n",
       "      <td>0.7000</td>\n",
       "      <td>0.00</td>\n",
       "      <td>0.250000</td>\n",
       "      <td>2024-02-01</td>\n",
       "      <td>10.000000</td>\n",
       "      <td>4.5</td>\n",
       "    </tr>\n",
       "    <tr>\n",
       "      <th>1</th>\n",
       "      <td>102</td>\n",
       "      <td>Bob</td>\n",
       "      <td>Phone</td>\n",
       "      <td>0.2000</td>\n",
       "      <td>0.50</td>\n",
       "      <td>0.428571</td>\n",
       "      <td>2024-02-02</td>\n",
       "      <td>11.428571</td>\n",
       "      <td>4.0</td>\n",
       "    </tr>\n",
       "    <tr>\n",
       "      <th>2</th>\n",
       "      <td>103</td>\n",
       "      <td>Alice</td>\n",
       "      <td>Tablet</td>\n",
       "      <td>0.4625</td>\n",
       "      <td>0.00</td>\n",
       "      <td>0.267857</td>\n",
       "      <td>2024-01-01</td>\n",
       "      <td>5.000000</td>\n",
       "      <td>4.2</td>\n",
       "    </tr>\n",
       "    <tr>\n",
       "      <th>3</th>\n",
       "      <td>104</td>\n",
       "      <td>David</td>\n",
       "      <td>Laptop</td>\n",
       "      <td>0.8000</td>\n",
       "      <td>0.00</td>\n",
       "      <td>0.285714</td>\n",
       "      <td>2024-02-04</td>\n",
       "      <td>15.000000</td>\n",
       "      <td>5.0</td>\n",
       "    </tr>\n",
       "    <tr>\n",
       "      <th>4</th>\n",
       "      <td>105</td>\n",
       "      <td>Eva</td>\n",
       "      <td>Tablet</td>\n",
       "      <td>0.0000</td>\n",
       "      <td>0.25</td>\n",
       "      <td>0.000000</td>\n",
       "      <td>2024-02-05</td>\n",
       "      <td>10.000000</td>\n",
       "      <td>3.8</td>\n",
       "    </tr>\n",
       "  </tbody>\n",
       "</table>\n",
       "</div>"
      ],
      "text/plain": [
       "   Order_ID Customer_Name Product   Price  Quantity  Total_Sales        Date  \\\n",
       "0       101         Alice  Laptop  0.7000      0.00     0.250000  2024-02-01   \n",
       "1       102           Bob   Phone  0.2000      0.50     0.428571  2024-02-02   \n",
       "2       103         Alice  Tablet  0.4625      0.00     0.267857  2024-01-01   \n",
       "3       104         David  Laptop  0.8000      0.00     0.285714  2024-02-04   \n",
       "4       105           Eva  Tablet  0.0000      0.25     0.000000  2024-02-05   \n",
       "\n",
       "   Discount (%)  Rating  \n",
       "0     10.000000     4.5  \n",
       "1     11.428571     4.0  \n",
       "2      5.000000     4.2  \n",
       "3     15.000000     5.0  \n",
       "4     10.000000     3.8  "
      ]
     },
     "execution_count": 46,
     "metadata": {},
     "output_type": "execute_result"
    }
   ],
   "source": [
    "scaler = MinMaxScaler()\n",
    "df[['Price', 'Quantity', 'Total_Sales']] = scaler.fit_transform(df[['Price', 'Quantity', 'Total_Sales']])\n",
    "df.head()"
   ]
  },
  {
   "cell_type": "markdown",
   "id": "af8ce72d-7941-4d65-a444-09d06c02c9b5",
   "metadata": {},
   "source": [
    "🔹 Step 3: Standardization (Z-score normalization)"
   ]
  },
  {
   "cell_type": "code",
   "execution_count": 47,
   "id": "494c4061-de1a-4208-b30f-6d5b3340edbb",
   "metadata": {},
   "outputs": [
    {
     "data": {
      "text/html": [
       "<div>\n",
       "<style scoped>\n",
       "    .dataframe tbody tr th:only-of-type {\n",
       "        vertical-align: middle;\n",
       "    }\n",
       "\n",
       "    .dataframe tbody tr th {\n",
       "        vertical-align: top;\n",
       "    }\n",
       "\n",
       "    .dataframe thead th {\n",
       "        text-align: right;\n",
       "    }\n",
       "</style>\n",
       "<table border=\"1\" class=\"dataframe\">\n",
       "  <thead>\n",
       "    <tr style=\"text-align: right;\">\n",
       "      <th></th>\n",
       "      <th>Order_ID</th>\n",
       "      <th>Customer_Name</th>\n",
       "      <th>Product</th>\n",
       "      <th>Price</th>\n",
       "      <th>Quantity</th>\n",
       "      <th>Total_Sales</th>\n",
       "      <th>Date</th>\n",
       "      <th>Discount (%)</th>\n",
       "      <th>Rating</th>\n",
       "    </tr>\n",
       "  </thead>\n",
       "  <tbody>\n",
       "    <tr>\n",
       "      <th>0</th>\n",
       "      <td>101</td>\n",
       "      <td>Alice</td>\n",
       "      <td>Laptop</td>\n",
       "      <td>7.835468e-01</td>\n",
       "      <td>-0.960769</td>\n",
       "      <td>-0.281026</td>\n",
       "      <td>2024-02-01</td>\n",
       "      <td>10.000000</td>\n",
       "      <td>4.5</td>\n",
       "    </tr>\n",
       "    <tr>\n",
       "      <th>1</th>\n",
       "      <td>102</td>\n",
       "      <td>Bob</td>\n",
       "      <td>Phone</td>\n",
       "      <td>-8.660254e-01</td>\n",
       "      <td>0.640513</td>\n",
       "      <td>0.388084</td>\n",
       "      <td>2024-02-02</td>\n",
       "      <td>11.428571</td>\n",
       "      <td>4.0</td>\n",
       "    </tr>\n",
       "    <tr>\n",
       "      <th>2</th>\n",
       "      <td>103</td>\n",
       "      <td>Alice</td>\n",
       "      <td>Tablet</td>\n",
       "      <td>-3.662786e-16</td>\n",
       "      <td>-0.960769</td>\n",
       "      <td>-0.214115</td>\n",
       "      <td>2024-01-01</td>\n",
       "      <td>5.000000</td>\n",
       "      <td>4.2</td>\n",
       "    </tr>\n",
       "    <tr>\n",
       "      <th>3</th>\n",
       "      <td>104</td>\n",
       "      <td>David</td>\n",
       "      <td>Laptop</td>\n",
       "      <td>1.113461e+00</td>\n",
       "      <td>-0.960769</td>\n",
       "      <td>-0.147204</td>\n",
       "      <td>2024-02-04</td>\n",
       "      <td>15.000000</td>\n",
       "      <td>5.0</td>\n",
       "    </tr>\n",
       "    <tr>\n",
       "      <th>4</th>\n",
       "      <td>105</td>\n",
       "      <td>Eva</td>\n",
       "      <td>Tablet</td>\n",
       "      <td>-1.525854e+00</td>\n",
       "      <td>-0.160128</td>\n",
       "      <td>-1.217780</td>\n",
       "      <td>2024-02-05</td>\n",
       "      <td>10.000000</td>\n",
       "      <td>3.8</td>\n",
       "    </tr>\n",
       "  </tbody>\n",
       "</table>\n",
       "</div>"
      ],
      "text/plain": [
       "   Order_ID Customer_Name Product         Price  Quantity  Total_Sales  \\\n",
       "0       101         Alice  Laptop  7.835468e-01 -0.960769    -0.281026   \n",
       "1       102           Bob   Phone -8.660254e-01  0.640513     0.388084   \n",
       "2       103         Alice  Tablet -3.662786e-16 -0.960769    -0.214115   \n",
       "3       104         David  Laptop  1.113461e+00 -0.960769    -0.147204   \n",
       "4       105           Eva  Tablet -1.525854e+00 -0.160128    -1.217780   \n",
       "\n",
       "         Date  Discount (%)  Rating  \n",
       "0  2024-02-01     10.000000     4.5  \n",
       "1  2024-02-02     11.428571     4.0  \n",
       "2  2024-01-01      5.000000     4.2  \n",
       "3  2024-02-04     15.000000     5.0  \n",
       "4  2024-02-05     10.000000     3.8  "
      ]
     },
     "execution_count": 47,
     "metadata": {},
     "output_type": "execute_result"
    }
   ],
   "source": [
    "std_scaler = StandardScaler()\n",
    "df[['Price', 'Quantity', 'Total_Sales']] = std_scaler.fit_transform(df[['Price', 'Quantity', 'Total_Sales']])\n",
    "df.head()"
   ]
  },
  {
   "cell_type": "markdown",
   "id": "639ecb32-53ea-4f52-807a-8259bbab8a5b",
   "metadata": {},
   "source": [
    "🔹 Step 4: Log Transformation for Skewed Data"
   ]
  },
  {
   "cell_type": "code",
   "execution_count": 48,
   "id": "bfd98083-7b3b-4fc3-8187-a4f8542c3d6e",
   "metadata": {},
   "outputs": [],
   "source": [
    "df[\"Price\"] = np.log1p(df[\"Price\"].clip(lower=0.0001))\n",
    "df[\"Total_Sales\"] = np.log1p(df[\"Total_Sales\"].clip(lower=0.0001))"
   ]
  },
  {
   "cell_type": "markdown",
   "id": "539d3a06-00ec-4095-b70d-c7d3b442e247",
   "metadata": {},
   "source": [
    "🔹 Step 5: Extract Date Components"
   ]
  },
  {
   "cell_type": "code",
   "execution_count": 49,
   "id": "5db1346d-a5a7-4f00-b907-95404c6662e5",
   "metadata": {},
   "outputs": [],
   "source": [
    "df[\"Date\"] = pd.to_datetime(df[\"Date\"]) # Convert to datetime if not already\n",
    "df[\"Year\"] = df[\"Date\"].dt.year\n",
    "df[\"month\"] = df[\"Date\"].dt.month\n",
    "df[\"day\"] = df[\"Date\"].dt.day\n",
    "df[\"day_of_week\"] = df[\"Date\"].dt.day_of_week\n",
    "df[\"is_weekend\"] = df[\"day_of_week\"].apply(lambda x: 1 if x >= 5 else 0) # Mark weekends"
   ]
  },
  {
   "cell_type": "markdown",
   "id": "6f4e41c3-500f-46a0-b254-ff06037916ec",
   "metadata": {},
   "source": [
    "🔹 Step 6: Save the Transformed Dataset"
   ]
  },
  {
   "cell_type": "code",
   "execution_count": 50,
   "id": "9fed93cc-bd63-48a7-a0a1-5306d11e6864",
   "metadata": {},
   "outputs": [
    {
     "name": "stdout",
     "output_type": "stream",
     "text": [
      "Transformed data saved!\n"
     ]
    }
   ],
   "source": [
    "df.to_csv(\"transformed_data.csv\", index=False)\n",
    "print(\"Transformed data saved!\")"
   ]
  },
  {
   "cell_type": "markdown",
   "id": "6f611f36-4c0d-46be-a3a0-94904b6b402b",
   "metadata": {},
   "source": [
    "**Encoding Categorical Variables.**"
   ]
  },
  {
   "cell_type": "code",
   "execution_count": 51,
   "id": "b04b827f-b4ff-4a3a-b4e5-224168ed046d",
   "metadata": {},
   "outputs": [
    {
     "data": {
      "text/html": [
       "<div>\n",
       "<style scoped>\n",
       "    .dataframe tbody tr th:only-of-type {\n",
       "        vertical-align: middle;\n",
       "    }\n",
       "\n",
       "    .dataframe tbody tr th {\n",
       "        vertical-align: top;\n",
       "    }\n",
       "\n",
       "    .dataframe thead th {\n",
       "        text-align: right;\n",
       "    }\n",
       "</style>\n",
       "<table border=\"1\" class=\"dataframe\">\n",
       "  <thead>\n",
       "    <tr style=\"text-align: right;\">\n",
       "      <th></th>\n",
       "      <th>Order_ID</th>\n",
       "      <th>Customer_Name</th>\n",
       "      <th>Product</th>\n",
       "      <th>Price</th>\n",
       "      <th>Quantity</th>\n",
       "      <th>Total_Sales</th>\n",
       "      <th>Date</th>\n",
       "      <th>Discount (%)</th>\n",
       "      <th>Rating</th>\n",
       "      <th>Year</th>\n",
       "      <th>month</th>\n",
       "      <th>day</th>\n",
       "      <th>day_of_week</th>\n",
       "      <th>is_weekend</th>\n",
       "    </tr>\n",
       "  </thead>\n",
       "  <tbody>\n",
       "    <tr>\n",
       "      <th>0</th>\n",
       "      <td>101</td>\n",
       "      <td>Alice</td>\n",
       "      <td>Laptop</td>\n",
       "      <td>0.578604</td>\n",
       "      <td>-0.960769</td>\n",
       "      <td>0.000100</td>\n",
       "      <td>2024-02-01</td>\n",
       "      <td>10.000000</td>\n",
       "      <td>4.5</td>\n",
       "      <td>2024</td>\n",
       "      <td>2</td>\n",
       "      <td>1</td>\n",
       "      <td>3</td>\n",
       "      <td>0</td>\n",
       "    </tr>\n",
       "    <tr>\n",
       "      <th>1</th>\n",
       "      <td>102</td>\n",
       "      <td>Bob</td>\n",
       "      <td>Phone</td>\n",
       "      <td>0.000100</td>\n",
       "      <td>0.640513</td>\n",
       "      <td>0.327924</td>\n",
       "      <td>2024-02-02</td>\n",
       "      <td>11.428571</td>\n",
       "      <td>4.0</td>\n",
       "      <td>2024</td>\n",
       "      <td>2</td>\n",
       "      <td>2</td>\n",
       "      <td>4</td>\n",
       "      <td>0</td>\n",
       "    </tr>\n",
       "    <tr>\n",
       "      <th>2</th>\n",
       "      <td>103</td>\n",
       "      <td>Alice</td>\n",
       "      <td>Tablet</td>\n",
       "      <td>0.000100</td>\n",
       "      <td>-0.960769</td>\n",
       "      <td>0.000100</td>\n",
       "      <td>2024-01-01</td>\n",
       "      <td>5.000000</td>\n",
       "      <td>4.2</td>\n",
       "      <td>2024</td>\n",
       "      <td>1</td>\n",
       "      <td>1</td>\n",
       "      <td>0</td>\n",
       "      <td>0</td>\n",
       "    </tr>\n",
       "    <tr>\n",
       "      <th>3</th>\n",
       "      <td>104</td>\n",
       "      <td>David</td>\n",
       "      <td>Laptop</td>\n",
       "      <td>0.748327</td>\n",
       "      <td>-0.960769</td>\n",
       "      <td>0.000100</td>\n",
       "      <td>2024-02-04</td>\n",
       "      <td>15.000000</td>\n",
       "      <td>5.0</td>\n",
       "      <td>2024</td>\n",
       "      <td>2</td>\n",
       "      <td>4</td>\n",
       "      <td>6</td>\n",
       "      <td>1</td>\n",
       "    </tr>\n",
       "    <tr>\n",
       "      <th>4</th>\n",
       "      <td>105</td>\n",
       "      <td>Eva</td>\n",
       "      <td>Tablet</td>\n",
       "      <td>0.000100</td>\n",
       "      <td>-0.160128</td>\n",
       "      <td>0.000100</td>\n",
       "      <td>2024-02-05</td>\n",
       "      <td>10.000000</td>\n",
       "      <td>3.8</td>\n",
       "      <td>2024</td>\n",
       "      <td>2</td>\n",
       "      <td>5</td>\n",
       "      <td>0</td>\n",
       "      <td>0</td>\n",
       "    </tr>\n",
       "  </tbody>\n",
       "</table>\n",
       "</div>"
      ],
      "text/plain": [
       "   Order_ID Customer_Name Product     Price  Quantity  Total_Sales  \\\n",
       "0       101         Alice  Laptop  0.578604 -0.960769     0.000100   \n",
       "1       102           Bob   Phone  0.000100  0.640513     0.327924   \n",
       "2       103         Alice  Tablet  0.000100 -0.960769     0.000100   \n",
       "3       104         David  Laptop  0.748327 -0.960769     0.000100   \n",
       "4       105           Eva  Tablet  0.000100 -0.160128     0.000100   \n",
       "\n",
       "         Date  Discount (%)  Rating  Year  month  day  day_of_week  is_weekend  \n",
       "0  2024-02-01     10.000000     4.5  2024      2    1            3           0  \n",
       "1  2024-02-02     11.428571     4.0  2024      2    2            4           0  \n",
       "2  2024-01-01      5.000000     4.2  2024      1    1            0           0  \n",
       "3  2024-02-04     15.000000     5.0  2024      2    4            6           1  \n",
       "4  2024-02-05     10.000000     3.8  2024      2    5            0           0  "
      ]
     },
     "execution_count": 51,
     "metadata": {},
     "output_type": "execute_result"
    }
   ],
   "source": [
    "#load the transformed dataset \n",
    "df = pd.read_csv(\"transformed_data.csv\")\n",
    "\n",
    "#display first few rows\n",
    "df.head()"
   ]
  },
  {
   "cell_type": "markdown",
   "id": "67bb6d00-50a5-4619-a9ab-066893663f39",
   "metadata": {},
   "source": [
    "Apply One-Hot Encoding (For Product Column)"
   ]
  },
  {
   "cell_type": "code",
   "execution_count": 52,
   "id": "e1b7fd8b-eb30-43fa-b919-5243643d2d3b",
   "metadata": {},
   "outputs": [],
   "source": [
    "df = pd.get_dummies(df, columns=[\"Product\"], drop_first=True)"
   ]
  },
  {
   "cell_type": "markdown",
   "id": "c8dad033-52bf-442f-9e7f-de62f1c00e70",
   "metadata": {},
   "source": [
    "Apply Label Encoding (For Customer_Name)"
   ]
  },
  {
   "cell_type": "code",
   "execution_count": 53,
   "id": "35a44571-c0ea-4455-a974-f12d7920234c",
   "metadata": {},
   "outputs": [],
   "source": [
    "from sklearn.preprocessing import LabelEncoder\n",
    "\n",
    "label_encoder = LabelEncoder()\n",
    "df[\"Customer_Name\"] = label_encoder.fit_transform(df[\"Customer_Name\"])"
   ]
  },
  {
   "cell_type": "markdown",
   "id": "52fc7fac-375e-46fd-958b-e59da91db802",
   "metadata": {},
   "source": [
    "Save the Encoded Dataset"
   ]
  },
  {
   "cell_type": "code",
   "execution_count": 54,
   "id": "3176fecd-303c-472b-9185-c1776aed73de",
   "metadata": {},
   "outputs": [
    {
     "name": "stdout",
     "output_type": "stream",
     "text": [
      "Categorical variables encoded and dataset saved!\n"
     ]
    }
   ],
   "source": [
    "df.to_csv(\"encoded_data.csv\", index=False)\n",
    "\n",
    "print(\"Categorical variables encoded and dataset saved!\")"
   ]
  },
  {
   "cell_type": "markdown",
   "id": "eee7ff05-1363-4c68-827c-faa36b82c856",
   "metadata": {},
   "source": [
    "**Outlier detection and handling**"
   ]
  },
  {
   "cell_type": "markdown",
   "id": "1972778f-a25a-4f86-aab0-dfa92781d632",
   "metadata": {},
   "source": [
    "Detect Outliers (IQR Method)"
   ]
  },
  {
   "cell_type": "code",
   "execution_count": 68,
   "id": "65453496-8c4e-4da0-b2a4-5229d0e3bcd5",
   "metadata": {},
   "outputs": [
    {
     "name": "stdout",
     "output_type": "stream",
     "text": [
      "Price          0\n",
      "Quantity       0\n",
      "Total_Sales    1\n",
      "dtype: int64\n"
     ]
    }
   ],
   "source": [
    "Q1 = df[[\"Price\", \"Quantity\", \"Total_Sales\"]].quantile(0.25)\n",
    "Q3 = df[[\"Price\", \"Quantity\", \"Total_Sales\"]].quantile(0.75)\n",
    "IQR = Q3 - Q1\n",
    "\n",
    "outliers = ((df[[\"Price\", \"Quantity\", \"Total_Sales\"]] < (Q1 - 1.5 * IQR)) | \n",
    "            (df[[\"Price\", \"Quantity\", \"Total_Sales\"]] > (Q3 + 1.5 * IQR)))\n",
    "\n",
    "print(outliers.sum())"
   ]
  },
  {
   "cell_type": "markdown",
   "id": "1614a80d-9622-4fc9-a916-ac0622772fb5",
   "metadata": {},
   "source": [
    "check the summary statistics of the Total_Sales column:"
   ]
  },
  {
   "cell_type": "code",
   "execution_count": 69,
   "id": "7ce41b24-8bf1-4778-9847-7923b6b88817",
   "metadata": {},
   "outputs": [
    {
     "data": {
      "text/plain": [
       "count    10.000000\n",
       "mean      0.209395\n",
       "std       0.410103\n",
       "min       0.000100\n",
       "25%       0.000100\n",
       "50%       0.000100\n",
       "75%       0.245968\n",
       "max       1.261081\n",
       "Name: Total_Sales, dtype: float64"
      ]
     },
     "execution_count": 69,
     "metadata": {},
     "output_type": "execute_result"
    }
   ],
   "source": [
    "df[\"Total_Sales\"].describe()"
   ]
  },
  {
   "cell_type": "markdown",
   "id": "999fff86-ac83-4681-9106-6dc51b5a0fdd",
   "metadata": {},
   "source": [
    "Let's visualize Total_Sales using a box plot to confirm the outlier"
   ]
  },
  {
   "cell_type": "code",
   "execution_count": 70,
   "id": "12cf6c8d-0872-46d1-93f6-024ffd7f2686",
   "metadata": {},
   "outputs": [
    {
     "data": {
      "image/png": "[encoded data removed]",
      "text/plain": [
       "<Figure size 640x480 with 1 Axes>"
      ]
     },
     "metadata": {},
     "output_type": "display_data"
    }
   ],
   "source": [
    "import seaborn as sns\n",
    "import matplotlib.pyplot as plt\n",
    "\n",
    "sns.boxplot(x=df[\"Total_Sales\"])\n",
    "plt.show()"
   ]
  },
  {
   "cell_type": "markdown",
   "id": "2711ef00-965a-417f-a6fd-cb4940f30905",
   "metadata": {},
   "source": [
    "Find the row containing the outlier:"
   ]
  },
  {
   "cell_type": "code",
   "execution_count": 71,
   "id": "cd997dd6-3acd-48fd-9492-fe24fd01f120",
   "metadata": {},
   "outputs": [
    {
     "data": {
      "text/html": [
       "<div>\n",
       "<style scoped>\n",
       "    .dataframe tbody tr th:only-of-type {\n",
       "        vertical-align: middle;\n",
       "    }\n",
       "\n",
       "    .dataframe tbody tr th {\n",
       "        vertical-align: top;\n",
       "    }\n",
       "\n",
       "    .dataframe thead th {\n",
       "        text-align: right;\n",
       "    }\n",
       "</style>\n",
       "<table border=\"1\" class=\"dataframe\">\n",
       "  <thead>\n",
       "    <tr style=\"text-align: right;\">\n",
       "      <th></th>\n",
       "      <th>Order_ID</th>\n",
       "      <th>Customer_Name</th>\n",
       "      <th>Price</th>\n",
       "      <th>Quantity</th>\n",
       "      <th>Total_Sales</th>\n",
       "      <th>Date</th>\n",
       "      <th>Discount (%)</th>\n",
       "      <th>Rating</th>\n",
       "      <th>Year</th>\n",
       "      <th>month</th>\n",
       "      <th>day</th>\n",
       "      <th>day_of_week</th>\n",
       "      <th>is_weekend</th>\n",
       "      <th>Product_Phone</th>\n",
       "      <th>Product_Tablet</th>\n",
       "      <th>Total_Sales_Log</th>\n",
       "      <th>Total_Sales_Sqrt</th>\n",
       "      <th>Total_Sales_CubeRoot</th>\n",
       "    </tr>\n",
       "  </thead>\n",
       "  <tbody>\n",
       "    <tr>\n",
       "      <th>6</th>\n",
       "      <td>107</td>\n",
       "      <td>0</td>\n",
       "      <td>1.020034</td>\n",
       "      <td>0.640513</td>\n",
       "      <td>1.261081</td>\n",
       "      <td>2024-02-07</td>\n",
       "      <td>20.0</td>\n",
       "      <td>4.2</td>\n",
       "      <td>2024</td>\n",
       "      <td>2</td>\n",
       "      <td>7</td>\n",
       "      <td>2</td>\n",
       "      <td>0</td>\n",
       "      <td>False</td>\n",
       "      <td>False</td>\n",
       "      <td>0.815843</td>\n",
       "      <td>1.122979</td>\n",
       "      <td>1.080391</td>\n",
       "    </tr>\n",
       "  </tbody>\n",
       "</table>\n",
       "</div>"
      ],
      "text/plain": [
       "   Order_ID  Customer_Name     Price  Quantity  Total_Sales        Date  \\\n",
       "6       107              0  1.020034  0.640513     1.261081  2024-02-07   \n",
       "\n",
       "   Discount (%)  Rating  Year  month  day  day_of_week  is_weekend  \\\n",
       "6          20.0     4.2  2024      2    7            2           0   \n",
       "\n",
       "   Product_Phone  Product_Tablet  Total_Sales_Log  Total_Sales_Sqrt  \\\n",
       "6          False           False         0.815843          1.122979   \n",
       "\n",
       "   Total_Sales_CubeRoot  \n",
       "6              1.080391  "
      ]
     },
     "execution_count": 71,
     "metadata": {},
     "output_type": "execute_result"
    }
   ],
   "source": [
    "df[df[\"Total_Sales\"] > df[\"Total_Sales\"].quantile(0.75) + 1.5 * (df[\"Total_Sales\"].quantile(0.75) - df[\"Total_Sales\"].quantile(0.25))]"
   ]
  },
  {
   "cell_type": "markdown",
   "id": "7aacb002-fd99-4d86-8359-3404be8022e5",
   "metadata": {},
   "source": [
    "Cap it(the row with outlier): If it's a valid but extreme value, replace it with the upper bound:"
   ]
  },
  {
   "cell_type": "code",
   "execution_count": 73,
   "id": "ad965530-c8cb-479e-bfef-f63ebfc6895f",
   "metadata": {},
   "outputs": [],
   "source": [
    "upper_bound = df[\"Total_Sales\"].quantile(0.75) + 1.5 * (df[\"Total_Sales\"].quantile(0.75) - df[\"Total_Sales\"].quantile(0.25))\n",
    "df[\"Total_Sales\"] = df[\"Total_Sales\"].apply(lambda x: upper_bound if x > upper_bound else x)"
   ]
  },
  {
   "cell_type": "code",
   "execution_count": 74,
   "id": "fe9fea72-d86a-4ba7-9ad7-1f0c982194c6",
   "metadata": {},
   "outputs": [
    {
     "data": {
      "text/html": [
       "<div>\n",
       "<style scoped>\n",
       "    .dataframe tbody tr th:only-of-type {\n",
       "        vertical-align: middle;\n",
       "    }\n",
       "\n",
       "    .dataframe tbody tr th {\n",
       "        vertical-align: top;\n",
       "    }\n",
       "\n",
       "    .dataframe thead th {\n",
       "        text-align: right;\n",
       "    }\n",
       "</style>\n",
       "<table border=\"1\" class=\"dataframe\">\n",
       "  <thead>\n",
       "    <tr style=\"text-align: right;\">\n",
       "      <th></th>\n",
       "      <th>Order_ID</th>\n",
       "      <th>Customer_Name</th>\n",
       "      <th>Price</th>\n",
       "      <th>Quantity</th>\n",
       "      <th>Total_Sales</th>\n",
       "      <th>Discount (%)</th>\n",
       "      <th>Rating</th>\n",
       "      <th>Year</th>\n",
       "      <th>month</th>\n",
       "      <th>day</th>\n",
       "      <th>day_of_week</th>\n",
       "      <th>is_weekend</th>\n",
       "      <th>Total_Sales_Log</th>\n",
       "      <th>Total_Sales_Sqrt</th>\n",
       "      <th>Total_Sales_CubeRoot</th>\n",
       "    </tr>\n",
       "  </thead>\n",
       "  <tbody>\n",
       "    <tr>\n",
       "      <th>count</th>\n",
       "      <td>10.00000</td>\n",
       "      <td>10.000000</td>\n",
       "      <td>10.000000</td>\n",
       "      <td>1.000000e+01</td>\n",
       "      <td>10.000000</td>\n",
       "      <td>10.000000</td>\n",
       "      <td>10.000000</td>\n",
       "      <td>10.0</td>\n",
       "      <td>10.000000</td>\n",
       "      <td>10.00000</td>\n",
       "      <td>10.000000</td>\n",
       "      <td>10.000000</td>\n",
       "      <td>10.000000</td>\n",
       "      <td>10.000000</td>\n",
       "      <td>10.000000</td>\n",
       "    </tr>\n",
       "    <tr>\n",
       "      <th>mean</th>\n",
       "      <td>105.50000</td>\n",
       "      <td>2.800000</td>\n",
       "      <td>0.272163</td>\n",
       "      <td>-4.996004e-17</td>\n",
       "      <td>0.144763</td>\n",
       "      <td>11.428571</td>\n",
       "      <td>4.280000</td>\n",
       "      <td>2024.0</td>\n",
       "      <td>1.800000</td>\n",
       "      <td>4.50000</td>\n",
       "      <td>2.400000</td>\n",
       "      <td>0.200000</td>\n",
       "      <td>0.150845</td>\n",
       "      <td>0.247572</td>\n",
       "      <td>0.289083</td>\n",
       "    </tr>\n",
       "    <tr>\n",
       "      <th>std</th>\n",
       "      <td>3.02765</td>\n",
       "      <td>2.616189</td>\n",
       "      <td>0.385060</td>\n",
       "      <td>1.054093e+00</td>\n",
       "      <td>0.242709</td>\n",
       "      <td>4.542568</td>\n",
       "      <td>0.358391</td>\n",
       "      <td>0.0</td>\n",
       "      <td>0.421637</td>\n",
       "      <td>3.24037</td>\n",
       "      <td>2.170509</td>\n",
       "      <td>0.421637</td>\n",
       "      <td>0.275922</td>\n",
       "      <td>0.405658</td>\n",
       "      <td>0.402173</td>\n",
       "    </tr>\n",
       "    <tr>\n",
       "      <th>min</th>\n",
       "      <td>101.00000</td>\n",
       "      <td>0.000000</td>\n",
       "      <td>0.000100</td>\n",
       "      <td>-9.607689e-01</td>\n",
       "      <td>0.000100</td>\n",
       "      <td>5.000000</td>\n",
       "      <td>3.800000</td>\n",
       "      <td>2024.0</td>\n",
       "      <td>1.000000</td>\n",
       "      <td>1.00000</td>\n",
       "      <td>0.000000</td>\n",
       "      <td>0.000000</td>\n",
       "      <td>0.000100</td>\n",
       "      <td>0.010000</td>\n",
       "      <td>0.046415</td>\n",
       "    </tr>\n",
       "    <tr>\n",
       "      <th>25%</th>\n",
       "      <td>103.25000</td>\n",
       "      <td>0.250000</td>\n",
       "      <td>0.000100</td>\n",
       "      <td>-9.607689e-01</td>\n",
       "      <td>0.000100</td>\n",
       "      <td>10.000000</td>\n",
       "      <td>4.050000</td>\n",
       "      <td>2024.0</td>\n",
       "      <td>2.000000</td>\n",
       "      <td>1.25000</td>\n",
       "      <td>0.250000</td>\n",
       "      <td>0.000000</td>\n",
       "      <td>0.000100</td>\n",
       "      <td>0.010000</td>\n",
       "      <td>0.046415</td>\n",
       "    </tr>\n",
       "    <tr>\n",
       "      <th>50%</th>\n",
       "      <td>105.50000</td>\n",
       "      <td>2.500000</td>\n",
       "      <td>0.000100</td>\n",
       "      <td>-1.601282e-01</td>\n",
       "      <td>0.000100</td>\n",
       "      <td>11.428571</td>\n",
       "      <td>4.200000</td>\n",
       "      <td>2024.0</td>\n",
       "      <td>2.000000</td>\n",
       "      <td>4.50000</td>\n",
       "      <td>2.500000</td>\n",
       "      <td>0.000000</td>\n",
       "      <td>0.000100</td>\n",
       "      <td>0.010000</td>\n",
       "      <td>0.046415</td>\n",
       "    </tr>\n",
       "    <tr>\n",
       "      <th>75%</th>\n",
       "      <td>107.75000</td>\n",
       "      <td>4.750000</td>\n",
       "      <td>0.527469</td>\n",
       "      <td>6.405126e-01</td>\n",
       "      <td>0.245968</td>\n",
       "      <td>14.107143</td>\n",
       "      <td>4.425000</td>\n",
       "      <td>2024.0</td>\n",
       "      <td>2.000000</td>\n",
       "      <td>6.75000</td>\n",
       "      <td>3.750000</td>\n",
       "      <td>0.000000</td>\n",
       "      <td>0.212738</td>\n",
       "      <td>0.431985</td>\n",
       "      <td>0.528796</td>\n",
       "    </tr>\n",
       "    <tr>\n",
       "      <th>max</th>\n",
       "      <td>110.00000</td>\n",
       "      <td>7.000000</td>\n",
       "      <td>1.020034</td>\n",
       "      <td>2.241794e+00</td>\n",
       "      <td>0.614770</td>\n",
       "      <td>20.000000</td>\n",
       "      <td>5.000000</td>\n",
       "      <td>2024.0</td>\n",
       "      <td>2.000000</td>\n",
       "      <td>10.00000</td>\n",
       "      <td>6.000000</td>\n",
       "      <td>1.000000</td>\n",
       "      <td>0.815843</td>\n",
       "      <td>1.122979</td>\n",
       "      <td>1.080391</td>\n",
       "    </tr>\n",
       "  </tbody>\n",
       "</table>\n",
       "</div>"
      ],
      "text/plain": [
       "        Order_ID  Customer_Name      Price      Quantity  Total_Sales  \\\n",
       "count   10.00000      10.000000  10.000000  1.000000e+01    10.000000   \n",
       "mean   105.50000       2.800000   0.272163 -4.996004e-17     0.144763   \n",
       "std      3.02765       2.616189   0.385060  1.054093e+00     0.242709   \n",
       "min    101.00000       0.000000   0.000100 -9.607689e-01     0.000100   \n",
       "25%    103.25000       0.250000   0.000100 -9.607689e-01     0.000100   \n",
       "50%    105.50000       2.500000   0.000100 -1.601282e-01     0.000100   \n",
       "75%    107.75000       4.750000   0.527469  6.405126e-01     0.245968   \n",
       "max    110.00000       7.000000   1.020034  2.241794e+00     0.614770   \n",
       "\n",
       "       Discount (%)     Rating    Year      month       day  day_of_week  \\\n",
       "count     10.000000  10.000000    10.0  10.000000  10.00000    10.000000   \n",
       "mean      11.428571   4.280000  2024.0   1.800000   4.50000     2.400000   \n",
       "std        4.542568   0.358391     0.0   0.421637   3.24037     2.170509   \n",
       "min        5.000000   3.800000  2024.0   1.000000   1.00000     0.000000   \n",
       "25%       10.000000   4.050000  2024.0   2.000000   1.25000     0.250000   \n",
       "50%       11.428571   4.200000  2024.0   2.000000   4.50000     2.500000   \n",
       "75%       14.107143   4.425000  2024.0   2.000000   6.75000     3.750000   \n",
       "max       20.000000   5.000000  2024.0   2.000000  10.00000     6.000000   \n",
       "\n",
       "       is_weekend  Total_Sales_Log  Total_Sales_Sqrt  Total_Sales_CubeRoot  \n",
       "count   10.000000        10.000000         10.000000             10.000000  \n",
       "mean     0.200000         0.150845          0.247572              0.289083  \n",
       "std      0.421637         0.275922          0.405658              0.402173  \n",
       "min      0.000000         0.000100          0.010000              0.046415  \n",
       "25%      0.000000         0.000100          0.010000              0.046415  \n",
       "50%      0.000000         0.000100          0.010000              0.046415  \n",
       "75%      0.000000         0.212738          0.431985              0.528796  \n",
       "max      1.000000         0.815843          1.122979              1.080391  "
      ]
     },
     "execution_count": 74,
     "metadata": {},
     "output_type": "execute_result"
    }
   ],
   "source": [
    "#Verify if the outlier is handled correctly: \n",
    "df.describe()"
   ]
  },
  {
   "cell_type": "markdown",
   "id": "516452c6-d455-4ddb-a906-681a4ad204f6",
   "metadata": {},
   "source": [
    "Re-check the box plot to confirm changes"
   ]
  },
  {
   "cell_type": "code",
   "execution_count": 75,
   "id": "cf7a184c-e579-49f0-89a1-7fffe7345e7e",
   "metadata": {},
   "outputs": [
    {
     "data": {
      "image/png": "[encoded data removed]",
      "text/plain": [
       "<Figure size 640x480 with 1 Axes>"
      ]
     },
     "metadata": {},
     "output_type": "display_data"
    }
   ],
   "source": [
    "sns.boxplot(x=df[\"Total_Sales\"])\n",
    "plt.show()\n"
   ]
  },
  {
   "cell_type": "code",
   "execution_count": null,
   "id": "c273ac17-325a-48f1-ad47-40d8f1a96e29",
   "metadata": {},
   "outputs": [],
   "source": []
  }
 ],
 "metadata": {
  "kernelspec": {
   "display_name": "Python 3 (ipykernel)",
   "language": "python",
   "name": "python3"
  },
  "language_info": {
   "codemirror_mode": {
    "name": "ipython",
    "version": 3
   },
   "file_extension": ".py",
   "mimetype": "text/x-python",
   "name": "python",
   "nbconvert_exporter": "python",
   "pygments_lexer": "ipython3",
   "version": "3.12.4"
  }
 },
 "nbformat": 4,
 "nbformat_minor": 5
}
